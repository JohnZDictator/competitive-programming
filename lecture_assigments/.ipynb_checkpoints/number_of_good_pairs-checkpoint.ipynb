{
 "cells": [
  {
   "cell_type": "code",
   "execution_count": 10,
   "id": "b30a3424-04ea-4f23-9911-ba199f7707b3",
   "metadata": {},
   "outputs": [
    {
     "data": {
      "text/plain": [
       "6"
      ]
     },
     "execution_count": 10,
     "metadata": {},
     "output_type": "execute_result"
    }
   ],
   "source": [
    "def numIdenticalPairs(nums: [int]) -> int:\n",
    "    count = 0\n",
    "    for i in range(len(nums)):\n",
    "        for j in range(i + 1, len(nums)):\n",
    "            if nums[i] == nums[j] and i < j:\n",
    "                count += 1\n",
    "    return count\n",
    "numIdenticalPairs([1,1,1,1])"
   ]
  },
  {
   "cell_type": "code",
   "execution_count": 8,
   "id": "2a3cfa0a-77f5-49ba-9c9f-8b07af428ac2",
   "metadata": {},
   "outputs": [
    {
     "ename": "SyntaxError",
     "evalue": "invalid syntax (700537648.py, line 1)",
     "output_type": "error",
     "traceback": [
      "\u001b[0;36m  File \u001b[0;32m\"/tmp/ipykernel_5874/700537648.py\"\u001b[0;36m, line \u001b[0;32m1\u001b[0m\n\u001b[0;31m    my_solution = new Solution()\u001b[0m\n\u001b[0m                      ^\u001b[0m\n\u001b[0;31mSyntaxError\u001b[0m\u001b[0;31m:\u001b[0m invalid syntax\n"
     ]
    }
   ],
   "source": []
  },
  {
   "cell_type": "code",
   "execution_count": null,
   "id": "1b79d592-76b8-4d91-8664-69a9fa89cda8",
   "metadata": {},
   "outputs": [],
   "source": []
  }
 ],
 "metadata": {
  "kernelspec": {
   "display_name": "Python 3 (ipykernel)",
   "language": "python",
   "name": "python3"
  },
  "language_info": {
   "codemirror_mode": {
    "name": "ipython",
    "version": 3
   },
   "file_extension": ".py",
   "mimetype": "text/x-python",
   "name": "python",
   "nbconvert_exporter": "python",
   "pygments_lexer": "ipython3",
   "version": "3.9.7"
  }
 },
 "nbformat": 4,
 "nbformat_minor": 5
}
